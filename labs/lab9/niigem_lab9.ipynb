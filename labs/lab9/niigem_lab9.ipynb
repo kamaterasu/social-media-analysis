{
  "nbformat": 4,
  "nbformat_minor": 0,
  "metadata": {
    "colab": {
      "provenance": []
    },
    "kernelspec": {
      "name": "python3",
      "display_name": "Python 3"
    },
    "language_info": {
      "name": "python"
    }
  },
  "cells": [
    {
      "cell_type": "markdown",
      "source": [
        "# **Б.Төгөлдөр B221910003**"
      ],
      "metadata": {
        "id": "0ubp6E-mWLCv"
      }
    },
    {
      "cell_type": "code",
      "execution_count": null,
      "metadata": {
        "colab": {
          "base_uri": "https://localhost:8080/"
        },
        "id": "fhlAhAkREWhL",
        "outputId": "d97717b0-c63a-478e-e3cb-bcea771ca536"
      },
      "outputs": [
        {
          "output_type": "stream",
          "name": "stdout",
          "text": [
            "Requirement already satisfied: dynetx in /usr/local/lib/python3.11/dist-packages (0.3.2)\n",
            "Requirement already satisfied: numpy in /usr/local/lib/python3.11/dist-packages (from dynetx) (2.0.2)\n",
            "Requirement already satisfied: future in /usr/local/lib/python3.11/dist-packages (from dynetx) (1.0.0)\n",
            "Requirement already satisfied: tqdm in /usr/local/lib/python3.11/dist-packages (from dynetx) (4.67.1)\n",
            "Requirement already satisfied: networkx in /usr/local/lib/python3.11/dist-packages (from dynetx) (3.4.2)\n",
            "Requirement already satisfied: decorator in /usr/local/lib/python3.11/dist-packages (from dynetx) (4.4.2)\n"
          ]
        }
      ],
      "source": [
        "pip install dynetx"
      ]
    },
    {
      "cell_type": "code",
      "source": [
        "from google.colab import drive\n",
        "drive.mount('/content/drive')"
      ],
      "metadata": {
        "colab": {
          "base_uri": "https://localhost:8080/"
        },
        "id": "ll8cY-blILTN",
        "outputId": "804d8699-c399-43b8-a24a-1fe48e944dd9"
      },
      "execution_count": null,
      "outputs": [
        {
          "output_type": "stream",
          "name": "stdout",
          "text": [
            "Drive already mounted at /content/drive; to attempt to forcibly remount, call drive.mount(\"/content/drive\", force_remount=True).\n"
          ]
        }
      ]
    },
    {
      "cell_type": "code",
      "source": [
        "import dynetx as dn\n",
        "import networkx as nx\n",
        "import random\n",
        "\n",
        "def read_net(filename):\n",
        "  # networkx-ийн энгийн граф обьект үүсгэж байна.\n",
        "    g = nx.Graph()\n",
        "    # filename нэртэй файлыг унших зориулалтаар нээнэ.\n",
        "    with open(filename) as f:\n",
        "      # файлын эхний мөрийг уншина\n",
        "        f.readline()\n",
        "        # файлын дараагийн мөрүүдэд давталт хийж байна.\n",
        "        for l in f:\n",
        "           # мөрийг таслал (',') тэмдэг дээр хувааж, жагсаалт болгож байна.\n",
        "            l = l.split(\",\")\n",
        "            # жагсаалтаас хоёр элемент авч граф-д холболт (edge) нэмж байна.\n",
        "            g.add_edge(l[0], l[1])\n",
        "    return g\n",
        "# dynetx сангаас хоосон динамик граф үүсгэж байна.\n",
        "g = dn.DynGraph() # empty dynamic graph"
      ],
      "metadata": {
        "id": "LdsFOhumISjB"
      },
      "execution_count": null,
      "outputs": []
    },
    {
      "cell_type": "code",
      "source": [
        "# 1-ээс 8 хүртэлх бүх утгуудыг давталт хийнэ.\n",
        "for t in range(1, 9):\n",
        "  # Файл дотроос ирмэгийн мэдээллийг уншиж, граф үүсгэж байна.\n",
        "    er = read_net(f'edges.csv')#nx.erdos_renyi_graph(random.randint(100, 400), 0.05)\n",
        "     # Үүсгэсэн граф дахь бүх холболтуудыг тухайн үе шат (t) дээр динамик графт нэмж байна.\n",
        "    g.add_interactions_from(er.edges, t=t)"
      ],
      "metadata": {
        "id": "RhsrDOBLI1JQ"
      },
      "execution_count": null,
      "outputs": []
    },
    {
      "cell_type": "code",
      "source": [
        " # g динамик граф-д хадгалагдсан бүх snapshot ID-үүдийг буцаана\n",
        "g.temporal_snapshots_ids()"
      ],
      "metadata": {
        "colab": {
          "base_uri": "https://localhost:8080/"
        },
        "id": "df-Yw5lBIxfH",
        "outputId": "c4396005-b57f-4111-cfbd-9f921851a57e"
      },
      "execution_count": null,
      "outputs": [
        {
          "output_type": "execute_result",
          "data": {
            "text/plain": [
              "[1, 2, 3, 4, 5, 6, 7, 8]"
            ]
          },
          "metadata": {},
          "execution_count": 10
        }
      ]
    },
    {
      "cell_type": "code",
      "source": [
        "# g динамик графийн 1 дахь snapshot тусад нь авч, g1 хувьсагчид хадгалж байна.\n",
        "g1 = g.time_slice(1)"
      ],
      "metadata": {
        "id": "vhel-kaOI-A-"
      },
      "execution_count": null,
      "outputs": []
    },
    {
      "cell_type": "code",
      "source": [
        "# type(g1) нь g1 обьектын төрлийг (class) тодорхойлно.\n",
        "# g1.number_of_nodes() нь граф g1-д байгаа оройн нийт тоог буцаана.\n",
        "# g1.number_of_edges() нь граф g1-д байгаа ирмэгүүдийн нийт тоог буцаана.\n",
        "type(g1), g1.number_of_nodes(), g1.number_of_edges()"
      ],
      "metadata": {
        "colab": {
          "base_uri": "https://localhost:8080/"
        },
        "id": "0heuqGPjJFyx",
        "outputId": "f8fee41c-c442-4d5b-e0f7-4d230f86b7ea"
      },
      "execution_count": null,
      "outputs": [
        {
          "output_type": "execute_result",
          "data": {
            "text/plain": [
              "(dynetx.classes.dyngraph.DynGraph, 107, 352)"
            ]
          },
          "metadata": {},
          "execution_count": 12
        }
      ]
    },
    {
      "cell_type": "code",
      "source": [
        "# g динамик графийн  0-ээс 3 хүртэлх бүх snapshot нэгтгэж нэг граф үүсгэж, g0_3 хувьсагчид хадгална.\n",
        "g0_3 = g.time_slice(0, 3)"
      ],
      "metadata": {
        "id": "NKmqh9sLJHcG"
      },
      "execution_count": null,
      "outputs": []
    },
    {
      "cell_type": "code",
      "source": [
        "# type(g0_3): g0_3 обьектын төрлийг (class) харуулна.\n",
        "# g0_3.number_of_nodes(): g0_3 граф-д байгаа нийт оройн тоог буцаана.\n",
        "# g0_3.number_of_edges(): g0_3 граф-д байгаа нийт ирмэгийн тоог буцаана.\n",
        "# g0_3.interactions_per_snapshots(): g0_3 графийн тус бүр snapshot дээр байгаа interaction тоонуудыг харуулна.\n",
        "type(g0_3), g0_3.number_of_nodes(), g0_3.number_of_edges(), g0_3.interactions_per_snapshots()"
      ],
      "metadata": {
        "id": "f8fpxUFhJLWy",
        "colab": {
          "base_uri": "https://localhost:8080/"
        },
        "outputId": "c84b484e-00f4-4eda-bd2c-ad64d4c62633"
      },
      "execution_count": null,
      "outputs": [
        {
          "output_type": "execute_result",
          "data": {
            "text/plain": [
              "(dynetx.classes.dyngraph.DynGraph, 107, 352, {1: 176.0, 2: 176.0})"
            ]
          },
          "metadata": {},
          "execution_count": 14
        }
      ]
    },
    {
      "cell_type": "code",
      "source": [
        "# g1 граф-д байгаа бүх ирмэгийг ашиглан энгийн networkx граф үүсгэж, үүнийг g1_flat хувьсагчид хадгална.\n",
        "g1_flat = nx.Graph(g1.edges())"
      ],
      "metadata": {
        "id": "sOhZl5CpJPaX"
      },
      "execution_count": null,
      "outputs": []
    },
    {
      "cell_type": "code",
      "source": [
        "# type(g1_flat): g1_flat обьектын төрлийг (class) харуулна.\n",
        "# g1_flat.number_of_nodes(): g1_flat граф-д байгаа нийт оройн тоог буцаана.\n",
        "# g1_flat.number_of_edges(): g1_flat граф-д байгаа нийт ирмэгийн тоог буцаана.\n",
        "\n",
        "type(g1_flat), g1_flat.number_of_nodes(), g1_flat.number_of_edges()\n"
      ],
      "metadata": {
        "id": "UbzukVQrJpYA",
        "colab": {
          "base_uri": "https://localhost:8080/"
        },
        "outputId": "d44a7f2f-3c3a-4203-9e57-f6dacc3423c3"
      },
      "execution_count": null,
      "outputs": [
        {
          "output_type": "execute_result",
          "data": {
            "text/plain": [
              "(networkx.classes.graph.Graph, 107, 352)"
            ]
          },
          "metadata": {},
          "execution_count": 16
        }
      ]
    },
    {
      "cell_type": "code",
      "source": [
        "# g динамик граф дахь үйл явдлуудын хоорондох хугацааны хуваарилалтыг  тооцоолсон үр дүнг r хувьсагчид хадгална.\n",
        "r = g.inter_event_time_distribution()\n",
        "print(f\"Number interactions: temporal distance\\t{r}\")"
      ],
      "metadata": {
        "id": "Bti1_ao8JrRQ",
        "colab": {
          "base_uri": "https://localhost:8080/"
        },
        "outputId": "42ee4fdb-5220-4859-a143-d0622460bd94"
      },
      "execution_count": null,
      "outputs": [
        {
          "output_type": "stream",
          "name": "stdout",
          "text": [
            "Number interactions: temporal distance\t{0: 702, 8: 1}\n"
          ]
        }
      ]
    },
    {
      "cell_type": "code",
      "source": [
        "# g динамик граф дахь \"Samwell\" нэртэй оройтой холбоотой үйл явдлуудын хоорондох хугацааны хуваарилалтыг тооцоолсон үр дүнг r хувьсагчид хадгалж байна.\n",
        "r = g.inter_event_time_distribution(\"Samwell\")\n",
        "print(f\"Number interactions: temporal distance\\t{r}\")"
      ],
      "metadata": {
        "id": "c8prea_SJrp3",
        "colab": {
          "base_uri": "https://localhost:8080/"
        },
        "outputId": "a82b7a28-cab0-4849-c3b1-d18a2b049a91"
      },
      "execution_count": null,
      "outputs": [
        {
          "output_type": "stream",
          "name": "stdout",
          "text": [
            "Number interactions: temporal distance\t{0: 28, 8: 1}\n"
          ]
        }
      ]
    },
    {
      "cell_type": "code",
      "source": [
        "#u,v оройны утга\n",
        "u = 'Jon'\n",
        "v = 'Samwell'"
      ],
      "metadata": {
        "id": "jLUb36ClJsl0"
      },
      "execution_count": null,
      "outputs": []
    },
    {
      "cell_type": "code",
      "source": [
        "# g динамик граф дахь u болон v гэсэн хоёр оройны хоорондох үйл явдлуудын хугацааны ялгааг тооцоолсон үр дүнг r хувьсагчид хадгална.\n",
        "r = g.inter_event_time_distribution(u, v)\n",
        "print(f\"Number interactions: temporal distance\\t{r}\")"
      ],
      "metadata": {
        "id": "DNZ836zMJt4w",
        "colab": {
          "base_uri": "https://localhost:8080/"
        },
        "outputId": "ea0fb2a5-169b-4970-d4ac-aee80e398bdc"
      },
      "execution_count": null,
      "outputs": [
        {
          "output_type": "stream",
          "name": "stdout",
          "text": [
            "Number interactions: temporal distance\t{7: 1}\n"
          ]
        }
      ]
    },
    {
      "cell_type": "code",
      "source": [
        "# g.degree(t=2) функц нь t=2 үед граф дахь бүх оройн degree буюу холболтын тоог гаргана.\n",
        "g.degree(t=2)['Samwell'] # degree of node 0 at time t=2"
      ],
      "metadata": {
        "id": "f-LvaNvOJy0t",
        "colab": {
          "base_uri": "https://localhost:8080/"
        },
        "outputId": "5802dc33-6d89-46fe-ffc2-36131f973c7d"
      },
      "execution_count": null,
      "outputs": [
        {
          "output_type": "execute_result",
          "data": {
            "text/plain": [
              "15"
            ]
          },
          "metadata": {},
          "execution_count": 26
        }
      ]
    },
    {
      "cell_type": "code",
      "source": [
        "# g.coverage() функц нь динамик граф дахь бүх цагийн үе шат дээрх харилцаануудын хамрах хүрээг (coverage) тооцоолдог.\n",
        "g.coverage()"
      ],
      "metadata": {
        "id": "YFVVl9_KJzxE",
        "colab": {
          "base_uri": "https://localhost:8080/"
        },
        "outputId": "b64634c9-0793-489e-d245-ac736f6ec10c"
      },
      "execution_count": null,
      "outputs": [
        {
          "output_type": "execute_result",
          "data": {
            "text/plain": [
              "1.0"
            ]
          },
          "metadata": {},
          "execution_count": 27
        }
      ]
    },
    {
      "cell_type": "code",
      "source": [
        "# g.node_contribution(\"BERIC\") нь \"BERIC\" нэртэй оройн хувь нэмрийг тооцоолдог функц юм.\n",
        "g.node_contribution(\"BERIC\")"
      ],
      "metadata": {
        "id": "ukhiuobPJ06g",
        "colab": {
          "base_uri": "https://localhost:8080/"
        },
        "outputId": "5fef3660-6ebb-49ac-d908-fce908a87da1"
      },
      "execution_count": null,
      "outputs": [
        {
          "output_type": "execute_result",
          "data": {
            "text/plain": [
              "0.0"
            ]
          },
          "metadata": {},
          "execution_count": 28
        }
      ]
    },
    {
      "cell_type": "code",
      "source": [
        "# g.edge_contribution(u, v) нь динамик граф дахь u болон v гэсэн хоёр оройн холбоотой холбооны хувь нэмрийг тооцоолдог функц юм.\n",
        "g.edge_contribution(u, v)"
      ],
      "metadata": {
        "id": "JsVomup8J2Y0",
        "colab": {
          "base_uri": "https://localhost:8080/"
        },
        "outputId": "34f89cad-9be9-4efb-97d5-6a4fce17c4a8"
      },
      "execution_count": null,
      "outputs": [
        {
          "output_type": "execute_result",
          "data": {
            "text/plain": [
              "1.0"
            ]
          },
          "metadata": {},
          "execution_count": 29
        }
      ]
    },
    {
      "cell_type": "code",
      "source": [
        "# g.node_pair_uniformity(u, v) функц нь динамик граф дахь u болон v гэсэн хоёр оройн хоорондох тэгш бус буюу нэгэн адил байдлыг (uniformity) хэмждэг.\n",
        "g.node_pair_uniformity(u, v)"
      ],
      "metadata": {
        "id": "Cfvv78m3J3W7",
        "colab": {
          "base_uri": "https://localhost:8080/"
        },
        "outputId": "288abf72-5a1c-4757-d4a1-f85490c1afb4"
      },
      "execution_count": null,
      "outputs": [
        {
          "output_type": "execute_result",
          "data": {
            "text/plain": [
              "1.0"
            ]
          },
          "metadata": {},
          "execution_count": 30
        }
      ]
    },
    {
      "cell_type": "code",
      "source": [
        "# g.density() функц нь граф дахь орой ба ирмэгүүдийн харьцаанаас графын нягтрал (density) –г тооцоолдог.\n",
        "g.density()"
      ],
      "metadata": {
        "id": "v5mjDHzsJ3-g",
        "colab": {
          "base_uri": "https://localhost:8080/"
        },
        "outputId": "f9c5bb55-40bd-4210-8cf7-cffbe19a43b5"
      },
      "execution_count": null,
      "outputs": [
        {
          "output_type": "execute_result",
          "data": {
            "text/plain": [
              "0.062070181625815554"
            ]
          },
          "metadata": {},
          "execution_count": 31
        }
      ]
    },
    {
      "cell_type": "code",
      "source": [
        "# g.node_density(u) функц нь динамик граф дахь u оройн нягтралыг (density) хэмждэг.\n",
        "g.node_density(u)"
      ],
      "metadata": {
        "id": "kirWzjAqJ5vM",
        "colab": {
          "base_uri": "https://localhost:8080/"
        },
        "outputId": "8f65498b-dccb-4356-d3e7-f3da1af37fe3"
      },
      "execution_count": null,
      "outputs": [
        {
          "output_type": "execute_result",
          "data": {
            "text/plain": [
              "0.24299065420560748"
            ]
          },
          "metadata": {},
          "execution_count": 32
        }
      ]
    },
    {
      "cell_type": "code",
      "source": [
        "# g.pair_density(u, v) функц нь динамик граф дахь u болон v гэсэн хоёр оройн хамтын нягтралыг (pair density) хэмждэг.\n",
        "g.pair_density(u, v)"
      ],
      "metadata": {
        "id": "GAo1jWcXJ6uf",
        "colab": {
          "base_uri": "https://localhost:8080/"
        },
        "outputId": "ca43833a-760e-4988-ec3b-352c4e7b3e96"
      },
      "execution_count": null,
      "outputs": [
        {
          "output_type": "execute_result",
          "data": {
            "text/plain": [
              "1.0"
            ]
          },
          "metadata": {},
          "execution_count": 33
        }
      ]
    },
    {
      "cell_type": "code",
      "source": [
        "# энэ давталт бүх snapshot ID-үүд дээр давталт хийнэ.\n",
        "for t in g.temporal_snapshots_ids():\n",
        "    # f-string ашиглан, үе шатны ID (t) болон тухайн үе шат дахь графын нягтрал (snapshot_density) утгыг хэвлэнэ.\n",
        "    print(f\"{t}\\t{g.snapshot_density(t)}\")"
      ],
      "metadata": {
        "id": "GvHiBDFNJ7Cj",
        "colab": {
          "base_uri": "https://localhost:8080/"
        },
        "outputId": "7c1c942f-56ce-4a2c-ad4a-5c8a88e5264f"
      },
      "execution_count": null,
      "outputs": [
        {
          "output_type": "stream",
          "name": "stdout",
          "text": [
            "1\t0.062070181625815554\n",
            "2\t0.062070181625815554\n",
            "3\t0.062070181625815554\n",
            "4\t0.062070181625815554\n",
            "5\t0.062070181625815554\n",
            "6\t0.062070181625815554\n",
            "7\t0.062070181625815554\n",
            "8\t0.062070181625815554\n"
          ]
        }
      ]
    },
    {
      "cell_type": "code",
      "source": [
        "# dynetx-ийн алгоритмуудыг агуулсан модулийг al гэж товчилсон импортлосон.\n",
        "import dynetx.algorithms as al\n",
        "# g динамик граф дээр \"GENDRY\" эгнээс \"GREY_WORM\" орой рүү хүрэх цаг хугацааны хуваарилалтай (time-respecting) замуудыг олох функц.\n",
        "paths = al.time_respecting_paths(g, \"Gendry\", \"Grey_worm\", start=1, end=5)"
      ],
      "metadata": {
        "id": "za9ciTt4J76f"
      },
      "execution_count": null,
      "outputs": []
    },
    {
      "cell_type": "code",
      "source": [
        "# paths жагсаалтаас эхний замыг авч байна.\n",
        "p = paths[0] # example of identified paths. Each list element is a tuple of the form (from, to, time)\n",
        "# p хувьсагчид хадгалагдсан замыг үзүүлж байна.\n",
        "p"
      ],
      "metadata": {
        "id": "-8exoJv1J82n",
        "colab": {
          "base_uri": "https://localhost:8080/"
        },
        "outputId": "153ab8c9-c5c1-4226-de17-a5bb87438148"
      },
      "execution_count": null,
      "outputs": [
        {
          "output_type": "execute_result",
          "data": {
            "text/plain": [
              "[]"
            ]
          },
          "metadata": {},
          "execution_count": 44
        }
      ]
    },
    {
      "cell_type": "markdown",
      "source": [
        "# Даалгавар\n",
        "\n",
        "Тодорхой нэг статик снапшотын хувьд эсвэл глобалаар буюу динамик сүлжээний хэмжээнд\n",
        "shortest, fastest, foremost, fastest shortest, shortest fastest замуудыг ол. Эдгээр замуудын\n",
        "ялгааг тайлбарла"
      ],
      "metadata": {
        "id": "5OHOla3xPgvs"
      }
    },
    {
      "cell_type": "markdown",
      "source": [
        "Shortest path: Статик байдлаар тодорхой цагийн хугацаанд эгнээний тоог хамгийн бага байхаар замыг олдог.\n",
        "\n",
        "Fastest path: Замын дундын явц хугацаа (анхны үйлдэлээс эцсийн үйлдэл хүртэлх хугацаа) хамгийн бага замыг олдог.\n",
        "\n",
        "Foremost path: Зорилтот эгнэд хамгийн эрт хүрдэг замыг олдог.\n",
        "\n",
        "Fastest shortest path: Богино замууд дотроос хугацааны хувьд хамгийн бага замыг сонгоно.\n",
        "\n",
        "Shortest fastest path: Хурдан замууд дотроос эгнээний тоогоор хамгийн богино замыг сонгоно"
      ],
      "metadata": {
        "id": "uVAsT5VNRbVb"
      }
    },
    {
      "cell_type": "code",
      "source": [
        "import dynetx as dn\n",
        "import networkx as nx\n",
        "import dynetx.algorithms as al\n",
        "\n",
        "# Шинэ динамик граф үүсгэж байна.\n",
        "g_new = dn.DynGraph()\n",
        "\n",
        "g_new.add_interactions_from([(\"Amory\", \"Grenn\")], t=3)\n",
        "\n",
        "# \"GENDRY\" ба \"GREY_WORM\" хоёрын шууд зам:\n",
        "g_new.add_interactions_from([(\"GENDRY\", \"GREY_WORM\")], t=1)\n",
        "# \"GENDRY\" -> \"X\" -> \"Y\" -> \"GREY_WORM\" зам:\n",
        "g_new.add_interactions_from([(\"GENDRY\", \"X\")], t=1)\n",
        "g_new.add_interactions_from([(\"X\", \"Y\")], t=2)\n",
        "g_new.add_interactions_from([(\"Y\", \"GREY_WORM\")], t=3)\n",
        "# \"GENDRY\" -> \"Z\" -> \"GREY_WORM\" зам:\n",
        "g_new.add_interactions_from([(\"GENDRY\", \"Z\")], t=2)\n",
        "g_new.add_interactions_from([(\"Z\", \"GREY_WORM\")], t=5)\n",
        "\n",
        "snapshot_t = 3\n",
        "g_static_new = g_new.time_slice(snapshot_t)\n",
        "# snapshot_t цагийн үед статик графыг үүсгэж байна.\n",
        "shortest_path_static_new = nx.shortest_path(g_static_new, source='Amory', target='Grenn')\n",
        "# \"Amory\" ба \"Grenn\" хоёрын хамгийн богино замыг олох.\n",
        "print(f\"Shortest path static (time {snapshot_t}):\", shortest_path_static_new)\n",
        "\n",
        "# Динамик сүлжээний хувьд цагийн хязгаарласан замуудыг олох:\n",
        "paths_new = al.time_respecting_paths(g_new, \"GENDRY\", \"GREY_WORM\", start=1, end=5)\n",
        "# Энд start=1 болон end=5 нь зам хайх цагийн интервалыг заадаг.\n",
        "print(\"All time-respecting paths:\", paths_new)\n",
        "\n",
        "# paths_new нь defaultdict хэлбэрээр өгөгддөг тул түлхүүр ('GENDRY', 'GREY_WORM') дээрх замуудыг тусад нь авна.\n",
        "all_paths = paths_new[(\"GENDRY\", \"GREY_WORM\")]\n",
        "print(\"Extracted paths for (GENDRY, GREY_WORM):\", all_paths)\n",
        "\n",
        "if all_paths:\n",
        "    # Замын аяллын хугацааг тооцоолох функц:\n",
        "    def travel_time(path):\n",
        "        # Зам нь (гарсан цэг, очих цэг, цаг) гэсэн tuple-уудаар бүрдэнэ.\n",
        "        # Эхний tuple-ийн цагийг эхлэх цаг гэж, сүүлчийн tuple-ийн цагийг дуусах цаг гэж үзнэ.\n",
        "        start_time = int(path[0][2])\n",
        "        end_time = int(path[-1][2])\n",
        "        return end_time - start_time\n",
        "\n",
        "    # 1. Foremost path:\n",
        "    # Энэ зам нь замын сүүлчийн үйл явдлын цагын хувьд хамгийн бага буюу эхлэхээс хамгийн түрүүнд очих замыг илэрхийлнэ.\n",
        "    foremost_path_new = min(all_paths, key=lambda p: int(p[-1][2]))\n",
        "    print(\"Foremost path:\", foremost_path_new)\n",
        "\n",
        "    # 2. Fastest path:\n",
        "    # Энэ зам нь аяллын нийт хугацаа (дуусах цаг - эхлэх цаг) хамгийн бага байгаа замыг сонгодог.\n",
        "    fastest_path_new = min(all_paths, key=lambda p: travel_time(p))\n",
        "    print(\"Fastest path:\", fastest_path_new)\n",
        "\n",
        "    # 3. Fastest shortest path (богино замуудын доторх хамгийн хурдан зам):\n",
        "    # Эхлээд замын hop буюу холбоосын тоогоор хамгийн богино замуудыг авч,\n",
        "    # тэдгээр дотроос аяллын хугацаа хамгийн бага замыг сонгодог.\n",
        "    min_hops_new = min(len(p) for p in all_paths)\n",
        "    shortest_paths_new = [p for p in all_paths if len(p) == min_hops_new]\n",
        "    fastest_shortest_path_new = min(shortest_paths_new, key=lambda p: travel_time(p))\n",
        "    print(\"Fastest shortest path:\", fastest_shortest_path_new)\n",
        "\n",
        "    # 4. Shortest fastest path:\n",
        "    # Эхлээд аяллын хугацаагаар хамгийн хурдан замуудыг авч,\n",
        "    # тэдгээр дотроос холбоосын тоогоор хамгийн богино замыг сонгодог.\n",
        "    min_travel_new = min(travel_time(p) for p in all_paths)\n",
        "    fastest_paths_new = [p for p in all_paths if travel_time(p) == min_travel_new]\n",
        "    shortest_fastest_path_new = min(fastest_paths_new, key=lambda p: len(p))\n",
        "    print(\"Shortest fastest path:\", shortest_fastest_path_new)\n",
        "else:\n",
        "    print(\"Хугацааны хязгаарлалттай зам олдсонгүй.\")\n"
      ],
      "metadata": {
        "colab": {
          "base_uri": "https://localhost:8080/"
        },
        "id": "m9GmO1M-PgY0",
        "outputId": "f05a8072-a92c-4731-c0dc-4d9d9847e8fc"
      },
      "execution_count": null,
      "outputs": [
        {
          "output_type": "stream",
          "name": "stdout",
          "text": [
            "Shortest path static (time 3): ['Amory', 'Grenn']\n",
            "All time-respecting paths: defaultdict(<class 'list'>, {('GENDRY', 'GREY_WORM'): [(('GENDRY', 'GREY_WORM', 1),), (('GENDRY', 'X', 1), ('X', 'Y', 2), ('Y', 'GREY_WORM', 3))]})\n",
            "Extracted paths for (GENDRY, GREY_WORM): [(('GENDRY', 'GREY_WORM', 1),), (('GENDRY', 'X', 1), ('X', 'Y', 2), ('Y', 'GREY_WORM', 3))]\n",
            "Foremost path: (('GENDRY', 'GREY_WORM', 1),)\n",
            "Fastest path: (('GENDRY', 'GREY_WORM', 1),)\n",
            "Fastest shortest path: (('GENDRY', 'GREY_WORM', 1),)\n",
            "Shortest fastest path: (('GENDRY', 'GREY_WORM', 1),)\n"
          ]
        }
      ]
    }
  ]
}