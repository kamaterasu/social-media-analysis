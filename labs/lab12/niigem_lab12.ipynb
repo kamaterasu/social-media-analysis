{
  "nbformat": 4,
  "nbformat_minor": 0,
  "metadata": {
    "colab": {
      "provenance": []
    },
    "kernelspec": {
      "name": "python3",
      "display_name": "Python 3"
    },
    "language_info": {
      "name": "python"
    }
  },
  "cells": [
    {
      "cell_type": "markdown",
      "source": [
        "# B221910003 B.Tuguldur\n"
      ],
      "metadata": {
        "id": "JbBPS-fUXXxQ"
      }
    },
    {
      "cell_type": "code",
      "execution_count": null,
      "metadata": {
        "colab": {
          "base_uri": "https://localhost:8080/"
        },
        "id": "3H-1SNaZLkhU",
        "outputId": "ae077291-009f-4a15-f2d2-ad2f05dcbe3b"
      },
      "outputs": [
        {
          "output_type": "stream",
          "name": "stdout",
          "text": [
            "Collecting dynetx\n",
            "  Downloading dynetx-0.3.2-py3-none-any.whl.metadata (2.9 kB)\n",
            "Requirement already satisfied: numpy in /usr/local/lib/python3.11/dist-packages (from dynetx) (2.0.2)\n",
            "Requirement already satisfied: future in /usr/local/lib/python3.11/dist-packages (from dynetx) (1.0.0)\n",
            "Requirement already satisfied: tqdm in /usr/local/lib/python3.11/dist-packages (from dynetx) (4.67.1)\n",
            "Requirement already satisfied: networkx in /usr/local/lib/python3.11/dist-packages (from dynetx) (3.4.2)\n",
            "Requirement already satisfied: decorator in /usr/local/lib/python3.11/dist-packages (from dynetx) (4.4.2)\n",
            "Downloading dynetx-0.3.2-py3-none-any.whl (39 kB)\n",
            "Installing collected packages: dynetx\n",
            "Successfully installed dynetx-0.3.2\n"
          ]
        }
      ],
      "source": [
        "pip install dynetx"
      ]
    },
    {
      "cell_type": "code",
      "source": [
        "import dynetx as dn\n",
        "import networkx as nx\n",
        "import random\n",
        "\n",
        "def read_net(filename):\n",
        "    g = nx.Graph()\n",
        "    with open(filename) as f:\n",
        "        f.readline()\n",
        "        for l in f:\n",
        "            l = l.split(\",\")\n",
        "            g.add_edge(l[0], l[1])\n",
        "    return g\n",
        "\n",
        "g = dn.DynGraph() # empty dynamic graph"
      ],
      "metadata": {
        "id": "SRUBhixeLpSt"
      },
      "execution_count": null,
      "outputs": []
    },
    {
      "cell_type": "code",
      "source": [
        "for t in range(1, 9):\n",
        "    er = read_net(f'got-s{t}-edges.csv')#nx.erdos_renyi_graph(random.randint(100, 400), 0.05)\n",
        "    g.add_interactions_from(er.edges, t=t)"
      ],
      "metadata": {
        "id": "esleVaBKL1eZ"
      },
      "execution_count": null,
      "outputs": []
    },
    {
      "cell_type": "code",
      "source": [
        "#снапшотын ID дугааруудыг дараах байдлаар авна.\n",
        "g.temporal_snapshots_ids()"
      ],
      "metadata": {
        "colab": {
          "base_uri": "https://localhost:8080/"
        },
        "id": "8D8CLaMnNZx1",
        "outputId": "aaac0e23-d8ab-4675-c2ec-7b4efb692f1d"
      },
      "execution_count": null,
      "outputs": [
        {
          "output_type": "execute_result",
          "data": {
            "text/plain": [
              "[1, 2, 3, 4, 5, 6, 7, 8]"
            ]
          },
          "metadata": {},
          "execution_count": 5
        }
      ]
    },
    {
      "cell_type": "code",
      "source": [
        "#снапшот бүрийн ID-г нь ашиглан тухайн снапшотод хандах боломжтой. Одоо 1р снапштолуу хандана\n",
        "g1 = g.time_slice(1)"
      ],
      "metadata": {
        "id": "C_7xkgLVNb8_"
      },
      "execution_count": null,
      "outputs": []
    },
    {
      "cell_type": "code",
      "source": [
        "#1р снапшотоос оройн болон ирмэгийн тоог авна.\n",
        "type(g1), g1.number_of_nodes(), g1.number_of_edges()"
      ],
      "metadata": {
        "colab": {
          "base_uri": "https://localhost:8080/"
        },
        "id": "9r2K5tCgNsLR",
        "outputId": "e791c99a-3b95-4466-d65d-4f6c7ff2b249"
      },
      "execution_count": null,
      "outputs": [
        {
          "output_type": "execute_result",
          "data": {
            "text/plain": [
              "(dynetx.classes.dyngraph.DynGraph, 126, 549)"
            ]
          },
          "metadata": {},
          "execution_count": 7
        }
      ]
    },
    {
      "cell_type": "code",
      "source": [
        "#0-3 ID-тай снапшотыг авна\n",
        "g0_3 = g.time_slice(0, 3)"
      ],
      "metadata": {
        "id": "lclphKD9NtpG"
      },
      "execution_count": null,
      "outputs": []
    },
    {
      "cell_type": "code",
      "source": [
        "#0-3р снапшотоос оройн болон ирмэг, снапшот болгонд байгаа interaction тоог авна.\n",
        "type(g0_3), g0_3.number_of_nodes(), g0_3.number_of_edges(), g0_3.interactions_per_snapshots()"
      ],
      "metadata": {
        "colab": {
          "base_uri": "https://localhost:8080/"
        },
        "id": "1Tg7zXHwNvJG",
        "outputId": "808a923a-bb11-4ab1-dd38-86e69901e27c"
      },
      "execution_count": null,
      "outputs": [
        {
          "output_type": "execute_result",
          "data": {
            "text/plain": [
              "(dynetx.classes.dyngraph.DynGraph, 237, 1182, {1: 78.5, 2: 79.0})"
            ]
          },
          "metadata": {},
          "execution_count": 9
        }
      ]
    },
    {
      "cell_type": "code",
      "source": [
        "#g1 дотор байгаа ирмэгээр граф үүсгэнэ\n",
        "g1_flat = nx.Graph(g1.edges())\n"
      ],
      "metadata": {
        "id": "gzGEcOHJNwqP"
      },
      "execution_count": null,
      "outputs": []
    },
    {
      "cell_type": "code",
      "source": [
        "#g1 графаас оройн болон ирмэгийн тоог авна.\n",
        "type(g1_flat), g1_flat.number_of_nodes(), g1_flat.number_of_edges()"
      ],
      "metadata": {
        "colab": {
          "base_uri": "https://localhost:8080/"
        },
        "id": "kHz394-uNySG",
        "outputId": "b957628e-ac7e-4fe2-dc1c-7fadc0ab5682"
      },
      "execution_count": null,
      "outputs": [
        {
          "output_type": "execute_result",
          "data": {
            "text/plain": [
              "(networkx.classes.graph.Graph, 126, 549)"
            ]
          },
          "metadata": {},
          "execution_count": 11
        }
      ]
    },
    {
      "cell_type": "code",
      "source": [
        "#\"g\" объектийн \"inter_event_time_distribution\" функц нь event-үүдийн хоорондох цаг хугацааны тархалтыг тооцоолон \"r\"-д хадгалдаг.\n",
        "r = g.inter_event_time_distribution()\n",
        "print(f\"Number interactions: temporal distance\\t{r}\")"
      ],
      "metadata": {
        "colab": {
          "base_uri": "https://localhost:8080/"
        },
        "id": "Z8-g4tjIN0GT",
        "outputId": "283e5e14-8d4c-4bf2-d4d4-1646d80823ff"
      },
      "execution_count": null,
      "outputs": [
        {
          "output_type": "stream",
          "name": "stdout",
          "text": [
            "Number interactions: temporal distance\t{0: 3307, 1: 8}\n"
          ]
        }
      ]
    },
    {
      "cell_type": "code",
      "source": [
        "#\"g\" объектийн \"inter_event_time_distribution\" функц нь \"ARYA\" гэсэн параметрээр event-үүдийн цаг хугацааны зөрүүг тооцоолон \"r\"-д хадгална.\n",
        "r = g.inter_event_time_distribution(\"ARYA\")\n",
        "print(f\"Number interactions: temporal distance\\t{r}\")"
      ],
      "metadata": {
        "colab": {
          "base_uri": "https://localhost:8080/"
        },
        "id": "q20aQhmeN2EW",
        "outputId": "78f96c98-5aad-4557-db23-cce0e6cf8014"
      },
      "execution_count": null,
      "outputs": [
        {
          "output_type": "stream",
          "name": "stdout",
          "text": [
            "Number interactions: temporal distance\t{0: 137, 1: 8}\n"
          ]
        }
      ]
    },
    {
      "cell_type": "code",
      "source": [
        "u = 'JON'\n",
        "v = 'ARYA'"
      ],
      "metadata": {
        "id": "eaX5fFSKN4TA"
      },
      "execution_count": null,
      "outputs": []
    },
    {
      "cell_type": "code",
      "source": [
        "#\"g\" объектийн \"inter_event_time_distribution\" функц нь \"JON\", \"ARYA\" гэсэн параметрээр event-үүдийн цаг хугацааны зөрүүг тооцоолон \"r\"-д хадгална.\n",
        "r = g.inter_event_time_distribution(u, v)\n",
        "print(f\"Number interactions: temporal distance\\t{r}\")"
      ],
      "metadata": {
        "colab": {
          "base_uri": "https://localhost:8080/"
        },
        "id": "0iwYmmDtN56D",
        "outputId": "f4656f56-1ffa-42f3-d185-84fef18527fa"
      },
      "execution_count": null,
      "outputs": [
        {
          "output_type": "stream",
          "name": "stdout",
          "text": [
            "Number interactions: temporal distance\t{6: 1, 1: 1}\n"
          ]
        }
      ]
    },
    {
      "cell_type": "code",
      "source": [
        "g.degree(t=2)['ARYA'] # t=2 дох 'ARYA' оройн зэрэг"
      ],
      "metadata": {
        "colab": {
          "base_uri": "https://localhost:8080/"
        },
        "id": "dVxIObxSN7JA",
        "outputId": "899b36ba-bb24-4451-8cfa-0663c615bda3"
      },
      "execution_count": null,
      "outputs": [
        {
          "output_type": "execute_result",
          "data": {
            "text/plain": [
              "27"
            ]
          },
          "metadata": {},
          "execution_count": 16
        }
      ]
    },
    {
      "cell_type": "code",
      "source": [
        "#Энэ функц нь \"g\" объектын хамрах хүрээ (coverage)-г тооцоолно\n",
        "g.coverage()"
      ],
      "metadata": {
        "colab": {
          "base_uri": "https://localhost:8080/"
        },
        "id": "tfR3XVC9N8j0",
        "outputId": "98c4b2fd-e838-4600-de7f-f0b539e59e75"
      },
      "execution_count": null,
      "outputs": [
        {
          "output_type": "execute_result",
          "data": {
            "text/plain": [
              "0.2977216748768473"
            ]
          },
          "metadata": {},
          "execution_count": 17
        }
      ]
    },
    {
      "cell_type": "code",
      "source": [
        "#Энэ функц нь \"g\" объектын \"BERIC\" оройн тархалтыг тооцоолно\n",
        "g.node_contribution(\"BERIC\")"
      ],
      "metadata": {
        "colab": {
          "base_uri": "https://localhost:8080/"
        },
        "id": "TNAO3PQaN-JG",
        "outputId": "f160a8a1-dd64-4b15-ad44-98c4f0d8617d"
      },
      "execution_count": null,
      "outputs": [
        {
          "output_type": "execute_result",
          "data": {
            "text/plain": [
              "0.625"
            ]
          },
          "metadata": {},
          "execution_count": 18
        }
      ]
    },
    {
      "cell_type": "code",
      "source": [
        "#Энэ функц нь \"g\" объектын \"JON\",\"ARYA\" ирмэгийн тархалтыг тооцоолно\n",
        "g.edge_contribution(u, v)"
      ],
      "metadata": {
        "colab": {
          "base_uri": "https://localhost:8080/"
        },
        "id": "EDWLWyDLN_QC",
        "outputId": "2c33e9fd-4979-4f49-a7ba-69185009feea"
      },
      "execution_count": null,
      "outputs": [
        {
          "output_type": "execute_result",
          "data": {
            "text/plain": [
              "0.375"
            ]
          },
          "metadata": {},
          "execution_count": 19
        }
      ]
    },
    {
      "cell_type": "code",
      "source": [
        "#Энэ функц нь \"g\" объектын \"JON\",\"ARYA\" зангилааны хосын нийцлийн түвшинг тодорхойлдог.\n",
        "g.node_pair_uniformity(u, v)"
      ],
      "metadata": {
        "colab": {
          "base_uri": "https://localhost:8080/"
        },
        "id": "C7p6u6YWOD-q",
        "outputId": "2483c637-e9da-4e3c-cd80-282d8173bfec"
      },
      "execution_count": null,
      "outputs": [
        {
          "output_type": "execute_result",
          "data": {
            "text/plain": [
              "1.0"
            ]
          },
          "metadata": {},
          "execution_count": 27
        }
      ]
    },
    {
      "cell_type": "code",
      "source": [
        "#Энэ функц нь \"g\" объектын нягтарлын түвшинг тодорхойлдог\n",
        "g.density()"
      ],
      "metadata": {
        "colab": {
          "base_uri": "https://localhost:8080/"
        },
        "id": "BaPQvix0OFWh",
        "outputId": "4ecb4176-7b29-4305-9ae7-0a8a03d6aac0"
      },
      "execution_count": null,
      "outputs": [
        {
          "output_type": "execute_result",
          "data": {
            "text/plain": [
              "0.06686633244351846"
            ]
          },
          "metadata": {},
          "execution_count": 21
        }
      ]
    },
    {
      "cell_type": "code",
      "source": [
        "#Энэ функц нь \"g\" объектын оройн нягтарлын түвшинг тодорхойлдог\n",
        "g.node_density(u)"
      ],
      "metadata": {
        "colab": {
          "base_uri": "https://localhost:8080/"
        },
        "id": "7uxP1AbxOJjO",
        "outputId": "de27e2c1-1175-4075-f6c1-28eba09dba70"
      },
      "execution_count": null,
      "outputs": [
        {
          "output_type": "execute_result",
          "data": {
            "text/plain": [
              "0.2295760082730093"
            ]
          },
          "metadata": {},
          "execution_count": 22
        }
      ]
    },
    {
      "cell_type": "code",
      "source": [
        "#Энэ функц нь \"g\" объектын хосын нягтарлын түвшинг тодорхойлдог\n",
        "g.pair_density(u, v)"
      ],
      "metadata": {
        "colab": {
          "base_uri": "https://localhost:8080/"
        },
        "id": "ENr94Zq1OLoK",
        "outputId": "946a9b41-3bb8-4b04-bf2a-0d2a8f5a98cc"
      },
      "execution_count": null,
      "outputs": [
        {
          "output_type": "execute_result",
          "data": {
            "text/plain": [
              "0.375"
            ]
          },
          "metadata": {},
          "execution_count": 23
        }
      ]
    },
    {
      "cell_type": "code",
      "source": [
        "#Энэ функц нь \"g\" объектын снапшот болгоны нягтарлын түвшинг тодорхойлдог\n",
        "for t in g.temporal_snapshots_ids():\n",
        "    print(f\"{t}\\t{g.snapshot_density(t)}\")"
      ],
      "metadata": {
        "colab": {
          "base_uri": "https://localhost:8080/"
        },
        "id": "yPDcZAluOM_i",
        "outputId": "a4b574dd-b1e6-4daf-f294-94cc8175df2b"
      },
      "execution_count": null,
      "outputs": [
        {
          "output_type": "stream",
          "name": "stdout",
          "text": [
            "1\t0.06971428571428571\n",
            "2\t0.05886627906976744\n",
            "3\t0.06608969315499606\n",
            "4\t0.04535563715490276\n",
            "5\t0.05640222190571144\n",
            "6\t0.05404055538907202\n",
            "7\t0.1271604938271605\n",
            "8\t0.20473898556090336\n"
          ]
        }
      ]
    },
    {
      "cell_type": "code",
      "source": [
        "import dynetx.algorithms as al\n",
        "#Энэ код нь \"GENDRY\" болон \"GREY_WORM\" хоорондох хугацаанд нийцсэн замуудыг хайж, үр дүнг \"paths\" хувьсагчид хадгалдаг.\n",
        "paths = al.time_respecting_paths(g, \"GENDRY\", \"GREY_WORM\", start=1, end=5)"
      ],
      "metadata": {
        "id": "BAkbWVg5ORde"
      },
      "execution_count": null,
      "outputs": []
    },
    {
      "cell_type": "code",
      "source": [
        "p = paths[0]\n",
        "p"
      ],
      "metadata": {
        "colab": {
          "base_uri": "https://localhost:8080/"
        },
        "id": "ocK56afsOSYj",
        "outputId": "a04f054d-238f-4e1e-b9d6-e305e752bf16"
      },
      "execution_count": null,
      "outputs": [
        {
          "output_type": "execute_result",
          "data": {
            "text/plain": [
              "[]"
            ]
          },
          "metadata": {},
          "execution_count": 26
        }
      ]
    },
    {
      "cell_type": "markdown",
      "source": [
        "**Даалгавар. **\n",
        "\n",
        "Тодорхой нэг статик снапшотын (g1) хувьд эсвэл нэгдсэн динамик сүлжээний (g) хэмжээнд shortest, fastest, foremost, fastest shortest, shortest fastest замуудыг ол. Эдгээр замуудын ялгааг тайлбарла."
      ],
      "metadata": {
        "id": "Td68QspOSSr5"
      }
    },
    {
      "cell_type": "markdown",
      "source": [
        "Shortest Path: Энэ зам нь холболт үүсэхэд хамгийн бага зайтай байдаг бөгөөд ихэвчлэн сүлжээг хэмжихэд хамгийн энгийн арга юм.\n",
        "\n",
        "Fastest Path: Энэ зам нь хугацаагаар хамгийн хурдан байхаас гадна, хамгийн бага хугацаа шаардсан замуудыг илрүүлдэг.\n",
        "\n",
        "Foremost Path: хамгийн удаан хугацаанд холболт хийж буй замыг олж болно.\n",
        "\n",
        "Fastest Shortest Path ба Shortest Fastest Path нь хоёулаа цаг хугацаа ба зайг тооцоолдог хэдий ч үр дүн нь тодорхой цаг хугацаа болон зайг шаардахгүйгээр хамгийн хурдан шийдлийг олно."
      ],
      "metadata": {
        "id": "ApsV8aN-SdN3"
      }
    },
    {
      "cell_type": "code",
      "source": [
        "import networkx as nx\n",
        "\n",
        "\n",
        "# Shortest path\n",
        "def shortest_path(g, start, end):\n",
        "    return nx.shortest_path(g, source=start, target=end, weight='weight')\n",
        "\n",
        "# Fastest path\n",
        "def fastest_path(g, start, end):\n",
        "    return nx.shortest_path(g, source=start, target=end, weight='time')\n",
        "\n",
        "# Foremost path\n",
        "def foremost_path(g, start, end):\n",
        "    return nx.shortest_path(g, source=start, target=end, weight='priority')\n",
        "\n",
        "# Fastest shortest path\n",
        "def fastest_shortest_path(g, start, end):\n",
        "    shortest = shortest_path(g, start, end)\n",
        "    return shortest\n",
        "\n",
        "# Shortest fastest path\n",
        "def shortest_fastest_path(g, start, end):\n",
        "    fastest = fastest_path(g, start, end)\n",
        "    return fastest\n",
        "\n",
        "start_node = \"GENDRY\"\n",
        "end_node = \"GREY_WORM\"\n",
        "\n",
        "shortest = shortest_path(g, start_node, end_node)\n",
        "fastest = fastest_path(g, start_node, end_node)\n",
        "foremost = foremost_path(g, start_node, end_node)\n",
        "fastest_shortest = fastest_shortest_path(g, start_node, end_node)\n",
        "shortest_fastest = shortest_fastest_path(g, start_node, end_node)\n",
        "\n",
        "print(f\"Shortest Path: {shortest}\")\n",
        "print(f\"Fastest Path: {fastest}\")\n",
        "print(f\"Foremost Path: {foremost}\")\n",
        "print(f\"Fastest Shortest Path: {fastest_shortest}\")\n",
        "print(f\"Shortest Fastest Path: {shortest_fastest}\")\n"
      ],
      "metadata": {
        "colab": {
          "base_uri": "https://localhost:8080/"
        },
        "id": "Qqs9Y4jJOihm",
        "outputId": "fa401e44-77c9-4d3e-feab-eaff8bcc083d"
      },
      "execution_count": null,
      "outputs": [
        {
          "output_type": "stream",
          "name": "stdout",
          "text": [
            "Shortest Path: ['GENDRY', 'GREY_WORM']\n",
            "Fastest Path: ['GENDRY', 'GREY_WORM']\n",
            "Foremost Path: ['GENDRY', 'GREY_WORM']\n",
            "Fastest Shortest Path: ['GENDRY', 'GREY_WORM']\n",
            "Shortest Fastest Path: ['GENDRY', 'GREY_WORM']\n"
          ]
        }
      ]
    },
    {
      "cell_type": "markdown",
      "source": [
        "Dynetx (эсвэл dynetx гэж нэрлэдэг) нь динамик графуудыг удирдах зориулалттай Python сан юм. Динамик графууд нь цаг хугацаанд хэрхэн өөрчлөгдөж буй сүлжээг илэрхийлнэ. Энэ сан нь хугацааны хувьд өөрчлөгдөж буй сүлжээг загварчлах, шинжлэхэд зориулсан хэрэгслүүдийг санал болгодог."
      ],
      "metadata": {
        "id": "94s3agpQTzQv"
      }
    }
  ]
}